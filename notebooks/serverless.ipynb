{
 "cells": [
  {
   "cell_type": "code",
   "execution_count": null,
   "metadata": {},
   "outputs": [],
   "source": [
    "import sys\n",
    "from pathlib import Path\n",
    "\n",
    "def setup_path() -> None:\n",
    "    \"\"\"Add src directory to Python path.\"\"\"\n",
    "    src_path = str(Path.cwd().parent / 'src')\n",
    "    \n",
    "    if src_path not in sys.path:\n",
    "        sys.path.insert(0, src_path)\n",
    "        print(f\"Added {src_path} to Python path\")\n",
    "    \n",
    "    try:\n",
    "        import metrics\n",
    "        print(\"Successfully imported metrics module\")\n",
    "    except ImportError as e:\n",
    "        print(f\"Error importing metrics module: {e}\")\n",
    "        print(f\"Current sys.path: {sys.path}\")\n",
    "        raise\n",
    "\n",
    "setup_path()\n",
    "from serverless.QAbot import ChatBot"
   ]
  },
  {
   "cell_type": "code",
   "execution_count": null,
   "metadata": {},
   "outputs": [],
   "source": [
    "path = input(\"Enter the path to the DOCX file: \")"
   ]
  },
  {
   "cell_type": "code",
   "execution_count": null,
   "metadata": {},
   "outputs": [],
   "source": [
    "bot = ChatBot(path)\n",
    "print('Здравствуйте! Задайте мне вопросы по документу, и я найду для вас ответы.')\n",
    "bot.notebook_demo()"
   ]
  }
 ],
 "metadata": {
  "kernelspec": {
   "display_name": "venv",
   "language": "python",
   "name": "python3"
  },
  "language_info": {
   "codemirror_mode": {
    "name": "ipython",
    "version": 3
   },
   "file_extension": ".py",
   "mimetype": "text/x-python",
   "name": "python",
   "nbconvert_exporter": "python",
   "pygments_lexer": "ipython3",
   "version": "3.12.7"
  }
 },
 "nbformat": 4,
 "nbformat_minor": 2
}
